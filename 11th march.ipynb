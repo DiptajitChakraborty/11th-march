{
 "cells": [
  {
   "cell_type": "markdown",
   "id": "5c2746c4-fb34-46b6-b3ae-560fc377c33f",
   "metadata": {},
   "source": [
    "Q1: What is the difference between a t-test and a z-test? Provide an example scenario where you would\n",
    "use each type of test."
   ]
  },
  {
   "cell_type": "markdown",
   "id": "ecd52e9a-fc0c-4661-8ec9-bcac47b6e9d5",
   "metadata": {},
   "source": [
    "Ans: If we dont know the standard deviation of the population then we will use t-test.But when we know the standard devviation and the number of sample is above 30,then we will use z-test,but if the number of sample will be less than 30 then we will use t-test.\n",
    "\n",
    "Example: Populaton mean is 520. 40 samples are drawn with sample mean 500 and standard deviation2.1 .\n",
    "Here thenumbe of sample is greater than 30 i.e. why we will use z-test.\n",
    "But if the question is ,Populaton mean is 520. 20 samples are drawn with sample mean 500 ,then as no standard deviation is given and the number of sample is less than 30,so we will use t-test ."
   ]
  },
  {
   "cell_type": "markdown",
   "id": "7b0ba45e-4fc7-4a68-baf6-c220f3de0262",
   "metadata": {},
   "source": [
    "Q2: Differentiate between one-tailed and two-tailed tests."
   ]
  },
  {
   "cell_type": "markdown",
   "id": "210ff9f9-697f-4b4f-8857-5ec8a51918f0",
   "metadata": {},
   "source": [
    "Ans: The main difference between one-tailed and two-tailed tests is that one-tailed tests will only have one critical region whereas two-tailed tests will have two critical regions."
   ]
  },
  {
   "cell_type": "markdown",
   "id": "73cc49ad-6249-410f-ae9e-02ae10c3d0e4",
   "metadata": {},
   "source": [
    "Q3: Explain the concept of Type 1 and Type 2 errors in hypothesis testing. Provide an example scenario for\n",
    "each type of error."
   ]
  },
  {
   "cell_type": "markdown",
   "id": "30ed5bf2-f807-436c-ad18-f31953cf5f51",
   "metadata": {},
   "source": [
    "Ans: If we reject null hypothesis when in reality it is true,then we will call it as Type 1 error.\n",
    "When we retain the null hypothesis when in reality it is false, then we call it as type 2 error.\n",
    "\n",
    "Example: Populaton mean is 520. 40 samples are drawn with sample mean 500 and standard deviation2.1 . Here thenumbe of sample is greater than 30 .\n",
    "if we rejct the null hypothesis i.e. population mean=sample mean when it is true then we will call it as type 1 error.\n",
    "But if we accept the null hypothesis i.e. population mean=sample mean when it is false then we will call it as type 2 error."
   ]
  },
  {
   "cell_type": "markdown",
   "id": "53f14456-4256-48d0-a594-ed2942348793",
   "metadata": {},
   "source": [
    "Q4: Explain Bayes's theorem with an example."
   ]
  },
  {
   "cell_type": "markdown",
   "id": "9d84e05b-1c3a-4a05-b814-1f63c716d628",
   "metadata": {},
   "source": [
    "Ans:Bayes thorem is a mathematical formula for determining conditional probability. Conditional probability is the likelihood of an outcome occurring, based on a previous outcome having occurred in similar circumstances. Bayes' theorem provides a way to revise existing predictions or theories  given new or additional evidence.\n",
    "the notation is  P(A|B) = P(A)P(B|A)/P(B)\n",
    "Example: if we have to calculate the probability of taking a blue ball from the second bag out of three different bags of balls, where each bag contains three different colour balls viz. red, blue, black. In this case, the probability of occurrence of an event is calculated depending on other conditions is known as conditional probability. "
   ]
  },
  {
   "cell_type": "markdown",
   "id": "1f9efa93-0ee3-4a36-9635-4b0f66e798a6",
   "metadata": {},
   "source": [
    "Q5: What is a confidence interval? How to calculate the confidence interval, explain with an example."
   ]
  },
  {
   "cell_type": "markdown",
   "id": "0de1f2b3-be6e-4a48-90cb-de69fd9fd5a0",
   "metadata": {},
   "source": [
    "Ans: confidence interval helps to estimate what the actual value of the unknown population mean is.\n",
    "\n",
    "confidence interval = point estimate +/- margin of error\n",
    "\n",
    "if the point estimate is 5 and the margin of error is .5 then the confidence integral will be 4.5 - 5.5. "
   ]
  },
  {
   "cell_type": "markdown",
   "id": "612a09ba-293f-4bf4-8935-85dd9bd4b8a3",
   "metadata": {},
   "source": [
    "Q6. Use Bayes' Theorem to calculate the probability of an event occurring given prior knowledge of the\n",
    "event's probability and new evidence. Provide a sample problem and solution."
   ]
  },
  {
   "cell_type": "markdown",
   "id": "012f63f5-e484-4f4f-8c4f-b3503dcb3814",
   "metadata": {},
   "source": [
    "Ans: probability of an event occurring given prior knowledge of the event's probability and new evidence is denoted as P(A|B),the formula is = P(A|B) = P(A)P(B|A)/P(B)\n",
    "\n",
    "Example:  \n",
    "<!-- A bag 1 contains 4 white and 6 black balls while another Bag 2 contains 4 white and 3 black balls. One ball is drawn at random from one of the bags, and it is found to be black. Find the probability that it was drawn from Bag 1 -->\n",
    "solution: Let E1 be the event of choosing bag I, E2 the event of choosing bag II, and A be the event of drawing a black ball.\n",
    "i.e. P(E1) = P(E2) = 1/2\n",
    "P(A|E1) = 6/10\n",
    "P(A|E2) = 3/7\n",
    "By using Bayes’ theorem, the probability of drawing a black ball from bag I out of two bags,\n",
    "P(E1|A) = P(E1)P(A|E1)/(P(E1)P(A|E1)+P(E2)P(A|E2)) = 7/12\n",
    "\n"
   ]
  },
  {
   "cell_type": "markdown",
   "id": "b0fe2c7c-2fef-440e-b9f9-1ff59226f04d",
   "metadata": {},
   "source": [
    "Q7. Calculate the 95% confidence interval for a sample of data with a mean of 50 and a standard deviation\n",
    "of 5. Interpret the results."
   ]
  },
  {
   "cell_type": "markdown",
   "id": "09fa1c5f-a972-4646-9f19-614d5f43ecdc",
   "metadata": {},
   "source": [
    "Ans: \n",
    "Since 95% of values fall within two standard deviations of the mean according to the 68-95-99.7 Rule, simply add and subtract two standard deviations from the mean in order to obtain the 95% confidence interval.i.e. the the c.i.will be (50-5)=45 to(50+5)=55"
   ]
  },
  {
   "cell_type": "markdown",
   "id": "de270cae-231a-4373-9afd-fedb21825458",
   "metadata": {},
   "source": [
    "Q8. What is the margin of error in a confidence interval? How does sample size affect the margin of error?\n",
    "Provide an example of a scenario where a larger sample size would result in a smaller margin of error."
   ]
  },
  {
   "cell_type": "markdown",
   "id": "4f5fbf66-2142-40a9-8245-647f0fa0587c",
   "metadata": {},
   "source": [
    "Margin of error tells you how much you can expect your survey results to reflect the views from the overall population.\n",
    " the larger the sample size, the smaller the sample standard error and therefore the smaller the margin of error.\n",
    "Average  = 5.5. mins; Standard Deviation = 3 mins; N = 10 runs\n",
    "95% Confidence Interval = (3.6, 7.4)\n",
    "Margin of Error = ±1.9 minutes\n",
    "Average = 5.5 mins; Standard Deviation = 3 mins; N=1000 runs\n",
    "95% Confidence Interval = (5.4, 5.6)\n",
    "Margin of Error = ± 0.1 minutes\n",
    "Thus margin of error decreses when the sample size increases"
   ]
  },
  {
   "cell_type": "markdown",
   "id": "1d1367a6-ae6a-4c1e-8096-b53d621afe1c",
   "metadata": {},
   "source": [
    "Q9. Calculate the z-score for a data point with a value of 75, a population mean of 70, and a population\n",
    "standard deviation of 5. Interpret the results."
   ]
  },
  {
   "cell_type": "code",
   "execution_count": 5,
   "id": "44ccf3f4-24ab-4d24-b582-6fe12d0af51f",
   "metadata": {},
   "outputs": [
    {
     "data": {
      "text/plain": [
       "0.09433962264150944"
      ]
     },
     "execution_count": 5,
     "metadata": {},
     "output_type": "execute_result"
    }
   ],
   "source": [
    "pop_mean = 70\n",
    "pop_std = 53\n",
    "samp = 75\n",
    "z_score = (samp-pop_mean)/pop_std\n",
    "z_score"
   ]
  },
  {
   "cell_type": "markdown",
   "id": "85a86659-4dcd-45ed-b897-29bbf321eae3",
   "metadata": {},
   "source": [
    "Q10. In a study of the effectiveness of a new weight loss drug, a sample of 50 participants lost an average\n",
    "of 6 pounds with a standard deviation of 2.5 pounds. Conduct a hypothesis test to determine if the drug is\n",
    "significantly effective at a 95% confidence level using a t-test."
   ]
  },
  {
   "cell_type": "code",
   "execution_count": 7,
   "id": "b0a7e88c-3f78-4478-b045-91cb5eda5ddd",
   "metadata": {},
   "outputs": [],
   "source": [
    "import math\n",
    "n = 50\n",
    "samp_mean = 6\n",
    "samp_std = 2.5\n",
    "ci = .95\n",
    "alpha = 1-ci\n",
    "t_value_statistics = -2.010\n",
    "pop_mean = ((samp_mean-t_value_statistics)*math.sqrt(n-1))/samp_std\n",
    "t_score = (samp_mean-pop_mean)/(samp_std/math.sqrt(n))"
   ]
  },
  {
   "cell_type": "code",
   "execution_count": 12,
   "id": "07fc3c90-df59-401d-ad63-1f21d4308a9d",
   "metadata": {},
   "outputs": [
    {
     "name": "stdout",
     "output_type": "stream",
     "text": [
      "We will reject the null hypothesis\n"
     ]
    }
   ],
   "source": [
    "if t_score < t_value_statistics:\n",
    "    print(\"We will reject the null hypothesis\")\n",
    "else:\n",
    "    print(\"We fail to reject the fail null hypothesis\")"
   ]
  },
  {
   "cell_type": "markdown",
   "id": "1d64f918-2acf-4283-bf44-ec01ca9216c6",
   "metadata": {},
   "source": [
    "Q11. In a survey of 500 people, 65% reported being satisfied with their current job. Calculate the 95%\n",
    "confidence interval for the true proportion of people who are satisfied with their job."
   ]
  },
  {
   "cell_type": "code",
   "execution_count": 13,
   "id": "cab00593-75f7-4c83-b77b-2063575d6c43",
   "metadata": {},
   "outputs": [],
   "source": [
    "n = 500\n",
    "p = .65\n",
    "q = 1-p\n",
    "ci = .95\n",
    "alpha = 1- ci\n",
    "z_score = 1.96\n",
    "EBP = z_score*math.sqrt((p*q)/n)"
   ]
  },
  {
   "cell_type": "code",
   "execution_count": 15,
   "id": "e12fc603-5469-4f21-9e71-15db685a94c4",
   "metadata": {},
   "outputs": [
    {
     "data": {
      "text/plain": [
       "0.608191771144905"
      ]
     },
     "execution_count": 15,
     "metadata": {},
     "output_type": "execute_result"
    }
   ],
   "source": [
    "p-EBP"
   ]
  },
  {
   "cell_type": "code",
   "execution_count": 16,
   "id": "05aa6176-fa7b-4a7f-a51c-fbd84346aee3",
   "metadata": {},
   "outputs": [
    {
     "data": {
      "text/plain": [
       "0.6918082288550951"
      ]
     },
     "execution_count": 16,
     "metadata": {},
     "output_type": "execute_result"
    }
   ],
   "source": [
    "p+EBP"
   ]
  },
  {
   "cell_type": "markdown",
   "id": "c751dda5-7eab-44d8-b6e3-fa3bc6318513",
   "metadata": {},
   "source": [
    "i.e. the confidence interval is : 60% -69%"
   ]
  },
  {
   "cell_type": "markdown",
   "id": "24fcdbc5-d383-472d-ab9b-9a9d8ff365a0",
   "metadata": {},
   "source": [
    "Q12. A researcher is testing the effectiveness of two different teaching methods on student performance.\n",
    "Sample A has a mean score of 85 with a standard deviation of 6, while sample B has a mean score of 82\n",
    "with a standard deviation of 5. Conduct a hypothesis test to determine if the two teaching methods have a\n",
    "significant difference in student performance using a t-test with a significance level of 0.01."
   ]
  },
  {
   "cell_type": "code",
   "execution_count": 17,
   "id": "c9f90dc4-8351-41cb-bdbf-800f9418eed3",
   "metadata": {},
   "outputs": [
    {
     "ename": "SyntaxError",
     "evalue": "invalid syntax (3022795054.py, line 6)",
     "output_type": "error",
     "traceback": [
      "\u001b[0;36m  Cell \u001b[0;32mIn[17], line 6\u001b[0;36m\u001b[0m\n\u001b[0;31m    t_value_statistics =\u001b[0m\n\u001b[0m                        ^\u001b[0m\n\u001b[0;31mSyntaxError\u001b[0m\u001b[0;31m:\u001b[0m invalid syntax\n"
     ]
    }
   ],
   "source": [
    "xa_bar = 85\n",
    "xa_std = 6\n",
    "xb_bar = 82\n",
    "xb_std = 5\n",
    "alpha = 0.01\n",
    "t = xa_bar-xb_bar\n",
    "\n",
    "\n"
   ]
  },
  {
   "cell_type": "markdown",
   "id": "0a247f9b-3425-4226-a288-2c97121304a7",
   "metadata": {},
   "source": [
    "Q13. A population has a mean of 60 and a standard deviation of 8. A sample of 50 observations has a mean\n",
    "of 65. Calculate the 90% confidence interval for the true population mean."
   ]
  },
  {
   "cell_type": "code",
   "execution_count": 22,
   "id": "81cc6bd1-7e7f-4496-9595-e9f489957e66",
   "metadata": {},
   "outputs": [],
   "source": [
    "pop_mean = 60\n",
    "std = 8\n",
    "samp_mean = 65\n",
    "n = 50\n",
    "ci = .90\n",
    "a = 1-ci\n",
    "z_score = 1.65\n",
    "z_test = (samp_mean-pop_mean)/std/math.sqrt(n)\n",
    "lower_ci = samp_mean - z_test*(std/math.sqrt(n))\n",
    "upper_ci = samp_mean + z_test*(std/math.sqrt(n))"
   ]
  },
  {
   "cell_type": "code",
   "execution_count": 23,
   "id": "f62a52d3-f0d0-4e8a-a6ea-b57c23952c3c",
   "metadata": {},
   "outputs": [
    {
     "data": {
      "text/plain": [
       "64.9"
      ]
     },
     "execution_count": 23,
     "metadata": {},
     "output_type": "execute_result"
    }
   ],
   "source": [
    "lower_ci"
   ]
  },
  {
   "cell_type": "code",
   "execution_count": 24,
   "id": "fe85fd69-16ee-4123-afab-e36cb01b51b3",
   "metadata": {},
   "outputs": [
    {
     "data": {
      "text/plain": [
       "65.1"
      ]
     },
     "execution_count": 24,
     "metadata": {},
     "output_type": "execute_result"
    }
   ],
   "source": [
    "upper_ci"
   ]
  },
  {
   "cell_type": "markdown",
   "id": "34469b09-055d-492b-957d-6853858edb16",
   "metadata": {},
   "source": [
    "the confidence integral is 64.9 - 65.1"
   ]
  },
  {
   "cell_type": "markdown",
   "id": "e28cfdf8-e0e3-4038-9823-bd314d7124d7",
   "metadata": {},
   "source": [
    "Q14. In a study of the effects of caffeine on reaction time, a sample of 30 participants had an average\n",
    "reaction time of 0.25 seconds with a standard deviation of 0.05 seconds. Conduct a hypothesis test to\n",
    "determine if the caffeine has a significant effect on reaction time at a 90% confidence level using a t-test."
   ]
  },
  {
   "cell_type": "code",
   "execution_count": 32,
   "id": "4b0e16d4-ad14-4299-989d-a59abbdaeef9",
   "metadata": {},
   "outputs": [],
   "source": [
    "n = 30\n",
    "samp_mean = 0.25\n",
    "samp_std = 0.05\n",
    "ci = .90\n",
    "a= .10\n",
    "t = -1.699\n",
    "pop_mean = ((samp_mean-t)*math.sqrt(n-1))/samp_std"
   ]
  },
  {
   "cell_type": "code",
   "execution_count": 33,
   "id": "8295b0f9-8ce4-4808-91b1-d7fd50f1583f",
   "metadata": {},
   "outputs": [
    {
     "data": {
      "text/plain": [
       "209.91372418210295"
      ]
     },
     "execution_count": 33,
     "metadata": {},
     "output_type": "execute_result"
    }
   ],
   "source": [
    "pop_mean"
   ]
  },
  {
   "cell_type": "markdown",
   "id": "b23c3802-f374-4fba-ba83-4a3e872f50df",
   "metadata": {},
   "source": [
    "here we will reject the null hypothesis."
   ]
  },
  {
   "cell_type": "code",
   "execution_count": null,
   "id": "a7a4d79c-0fb1-4fd0-bbe2-6f70c03ff9d7",
   "metadata": {},
   "outputs": [],
   "source": []
  }
 ],
 "metadata": {
  "kernelspec": {
   "display_name": "Python 3 (ipykernel)",
   "language": "python",
   "name": "python3"
  },
  "language_info": {
   "codemirror_mode": {
    "name": "ipython",
    "version": 3
   },
   "file_extension": ".py",
   "mimetype": "text/x-python",
   "name": "python",
   "nbconvert_exporter": "python",
   "pygments_lexer": "ipython3",
   "version": "3.10.8"
  }
 },
 "nbformat": 4,
 "nbformat_minor": 5
}
